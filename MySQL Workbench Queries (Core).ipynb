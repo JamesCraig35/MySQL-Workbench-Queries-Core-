{
 "cells": [
  {
   "cell_type": "markdown",
   "id": "6f09e78d",
   "metadata": {},
   "source": [
    "7 queries screenshots in order"
   ]
  },
  {
   "cell_type": "markdown",
   "id": "c092f9a0",
   "metadata": {},
   "source": [
    "![png](images/q5.png)"
   ]
  },
  {
   "cell_type": "markdown",
   "id": "2d1779a2",
   "metadata": {},
   "source": [
    "![png](images/q6.png)"
   ]
  },
  {
   "cell_type": "markdown",
   "id": "ac552dce",
   "metadata": {},
   "source": [
    "![png](images/q7.png)"
   ]
  },
  {
   "cell_type": "markdown",
   "id": "e88b2a66",
   "metadata": {},
   "source": [
    "![png](images/q8.png)"
   ]
  },
  {
   "cell_type": "markdown",
   "id": "17ac0e98",
   "metadata": {},
   "source": [
    "![png](images/q9.png)"
   ]
  },
  {
   "cell_type": "markdown",
   "id": "76c4bee7",
   "metadata": {},
   "source": [
    "![png](images/q10.png)"
   ]
  },
  {
   "cell_type": "markdown",
   "id": "7a3fc79f",
   "metadata": {},
   "source": [
    "![png](images/q2.png)"
   ]
  }
 ],
 "metadata": {
  "kernelspec": {
   "display_name": "Python (dojo-env)",
   "language": "python",
   "name": "dojo-env"
  },
  "language_info": {
   "codemirror_mode": {
    "name": "ipython",
    "version": 3
   },
   "file_extension": ".py",
   "mimetype": "text/x-python",
   "name": "python",
   "nbconvert_exporter": "python",
   "pygments_lexer": "ipython3",
   "version": "3.11.5"
  }
 },
 "nbformat": 4,
 "nbformat_minor": 5
}
