{
 "cells": [
  {
   "cell_type": "markdown",
   "id": "6f09e78d",
   "metadata": {},
   "source": [
    "queries screenshots"
   ]
  },
  {
   "cell_type": "markdown",
   "id": "db253609",
   "metadata": {},
   "source": [
    "![png](images/q1.png)"
   ]
  },
  {
   "cell_type": "markdown",
   "id": "7a3fc79f",
   "metadata": {},
   "source": [
    "![png](images/q2.png)"
   ]
  },
  {
   "cell_type": "markdown",
   "id": "86062df4",
   "metadata": {},
   "source": [
    "![png](images/q3.png)"
   ]
  },
  {
   "cell_type": "code",
   "execution_count": null,
   "id": "d5fb04d4",
   "metadata": {},
   "outputs": [],
   "source": []
  },
  {
   "cell_type": "code",
   "execution_count": null,
   "id": "125c9e0b",
   "metadata": {},
   "outputs": [],
   "source": []
  },
  {
   "cell_type": "code",
   "execution_count": null,
   "id": "84a2631f",
   "metadata": {},
   "outputs": [],
   "source": []
  },
  {
   "cell_type": "code",
   "execution_count": null,
   "id": "46df7be5",
   "metadata": {},
   "outputs": [],
   "source": []
  }
 ],
 "metadata": {
  "kernelspec": {
   "display_name": "Python (dojo-env)",
   "language": "python",
   "name": "dojo-env"
  },
  "language_info": {
   "codemirror_mode": {
    "name": "ipython",
    "version": 3
   },
   "file_extension": ".py",
   "mimetype": "text/x-python",
   "name": "python",
   "nbconvert_exporter": "python",
   "pygments_lexer": "ipython3",
   "version": "3.11.5"
  }
 },
 "nbformat": 4,
 "nbformat_minor": 5
}
